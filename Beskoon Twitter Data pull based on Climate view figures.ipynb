{
 "cells": [
  {
   "cell_type": "markdown",
   "id": "17f8f60e",
   "metadata": {},
   "source": [
    "# Pulling Climate Account data from Twitter\n",
    "\n",
    "Logan Beskoon\n",
    "\n",
    "I will be pulling followers from CFiguerers' and EcoSenseNow's accounts. They are in an interesting climate space, one calling for climate action now and the other trying to make sense of climate discussion positioning against fear.\n",
    "\n",
    "I would like to pull followers from Greta Thurnberg's account; however, she has millions and millions. Sooo that's for another day. "
   ]
  },
  {
   "cell_type": "code",
   "execution_count": 30,
   "id": "46b69b4d",
   "metadata": {},
   "outputs": [],
   "source": [
    "#Imports\n",
    "import datetime\n",
    "import tweepy as tw\n",
    "\n",
    "# I've put my API keys in a .py file called API_keys.py\n",
    "from API_keys import api_key, api_key_secret, access_token, access_token_secret"
   ]
  },
  {
   "cell_type": "code",
   "execution_count": 31,
   "id": "54586b88",
   "metadata": {},
   "outputs": [],
   "source": [
    "# Authenticate the Tweepy API\n",
    "auth = tweepy.OAuthHandler(api_key,api_key_secret)\n",
    "auth.set_access_token(access_token, access_token_secret)\n",
    "api = tweepy.API(auth,wait_on_rate_limit=True)"
   ]
  },
  {
   "cell_type": "markdown",
   "id": "f5558096",
   "metadata": {},
   "source": [
    "# Grab Followers"
   ]
  },
  {
   "cell_type": "code",
   "execution_count": 3,
   "id": "1645d43e",
   "metadata": {},
   "outputs": [
    {
     "name": "stdout",
     "output_type": "stream",
     "text": [
      "\n",
      "    @EcoSenseNow has 103108 followers. \n",
      "    That will take roughly 0 hours and 20.62 minutes\n",
      "    \n",
      "\n",
      "    @CFigueres has 160055 followers. \n",
      "    That will take roughly 1 hours and 32.01 minutes\n",
      "    \n"
     ]
    }
   ],
   "source": [
    "\n",
    "# I'm putting the handles in a list to iterate through below\n",
    "chandles = ['EcoSenseNow', 'CFigueres']\n",
    "\n",
    "\n",
    "# This will iterate through each Twitter handle that we're collecting from\n",
    "for screen_name in chandles:\n",
    "    \n",
    "    # Tells Tweepy we want information on the handle we're collecting from\n",
    "    # The next line specifies which information we want, which in this case is the number of followers \n",
    "    user = api.get_user(screen_name=screen_name) \n",
    "    followers_count = user.followers_count\n",
    "\n",
    "    # Let's see roughly how long it will take to grab all the follower IDs. \n",
    "    print(f'''\n",
    "    @{screen_name} has {followers_count} followers. \n",
    "    That will take roughly {followers_count/(5000*60):.0f} hours and {followers_count/(5000):.2f} minutes\n",
    "    ''')"
   ]
  },
  {
   "cell_type": "markdown",
   "id": "f466fc4d",
   "metadata": {},
   "source": [
    "Okay, so it's going to take a hot second. Sigh."
   ]
  },
  {
   "cell_type": "code",
   "execution_count": 5,
   "id": "d786f5d0",
   "metadata": {},
   "outputs": [
    {
     "name": "stderr",
     "output_type": "stream",
     "text": [
      "Unexpected parameter: wait_on_rate_limit\n",
      "Unexpected parameter: wait_on_rate_limit_notify\n",
      "Unexpected parameter: compression\n",
      "Unexpected parameter: wait_on_rate_limit\n",
      "Unexpected parameter: wait_on_rate_limit_notify\n",
      "Unexpected parameter: compression\n",
      "Unexpected parameter: wait_on_rate_limit\n",
      "Unexpected parameter: wait_on_rate_limit_notify\n",
      "Unexpected parameter: compression\n",
      "Unexpected parameter: wait_on_rate_limit\n",
      "Unexpected parameter: wait_on_rate_limit_notify\n",
      "Unexpected parameter: compression\n",
      "Unexpected parameter: wait_on_rate_limit\n",
      "Unexpected parameter: wait_on_rate_limit_notify\n",
      "Unexpected parameter: compression\n",
      "Unexpected parameter: wait_on_rate_limit\n",
      "Unexpected parameter: wait_on_rate_limit_notify\n",
      "Unexpected parameter: compression\n",
      "Unexpected parameter: wait_on_rate_limit\n",
      "Unexpected parameter: wait_on_rate_limit_notify\n",
      "Unexpected parameter: compression\n",
      "Unexpected parameter: wait_on_rate_limit\n",
      "Unexpected parameter: wait_on_rate_limit_notify\n",
      "Unexpected parameter: compression\n",
      "Unexpected parameter: wait_on_rate_limit\n",
      "Unexpected parameter: wait_on_rate_limit_notify\n",
      "Unexpected parameter: compression\n",
      "Unexpected parameter: wait_on_rate_limit\n",
      "Unexpected parameter: wait_on_rate_limit_notify\n",
      "Unexpected parameter: compression\n",
      "Unexpected parameter: wait_on_rate_limit\n",
      "Unexpected parameter: wait_on_rate_limit_notify\n",
      "Unexpected parameter: compression\n",
      "Unexpected parameter: wait_on_rate_limit\n",
      "Unexpected parameter: wait_on_rate_limit_notify\n",
      "Unexpected parameter: compression\n",
      "Unexpected parameter: wait_on_rate_limit\n",
      "Unexpected parameter: wait_on_rate_limit_notify\n",
      "Unexpected parameter: compression\n",
      "Unexpected parameter: wait_on_rate_limit\n",
      "Unexpected parameter: wait_on_rate_limit_notify\n",
      "Unexpected parameter: compression\n",
      "Unexpected parameter: wait_on_rate_limit\n",
      "Unexpected parameter: wait_on_rate_limit_notify\n",
      "Unexpected parameter: compression\n",
      "Unexpected parameter: wait_on_rate_limit\n",
      "Unexpected parameter: wait_on_rate_limit_notify\n",
      "Unexpected parameter: compression\n",
      "Rate limit reached. Sleeping for: 895\n",
      "Unexpected parameter: wait_on_rate_limit\n",
      "Unexpected parameter: wait_on_rate_limit_notify\n",
      "Unexpected parameter: compression\n",
      "Unexpected parameter: wait_on_rate_limit\n",
      "Unexpected parameter: wait_on_rate_limit_notify\n",
      "Unexpected parameter: compression\n",
      "Unexpected parameter: wait_on_rate_limit\n",
      "Unexpected parameter: wait_on_rate_limit_notify\n",
      "Unexpected parameter: compression\n",
      "Unexpected parameter: wait_on_rate_limit\n",
      "Unexpected parameter: wait_on_rate_limit_notify\n",
      "Unexpected parameter: compression\n",
      "Unexpected parameter: wait_on_rate_limit\n",
      "Unexpected parameter: wait_on_rate_limit_notify\n",
      "Unexpected parameter: compression\n",
      "Unexpected parameter: wait_on_rate_limit\n",
      "Unexpected parameter: wait_on_rate_limit_notify\n",
      "Unexpected parameter: compression\n",
      "Unexpected parameter: wait_on_rate_limit\n",
      "Unexpected parameter: wait_on_rate_limit_notify\n",
      "Unexpected parameter: compression\n",
      "Unexpected parameter: wait_on_rate_limit\n",
      "Unexpected parameter: wait_on_rate_limit_notify\n",
      "Unexpected parameter: compression\n",
      "Unexpected parameter: wait_on_rate_limit\n",
      "Unexpected parameter: wait_on_rate_limit_notify\n",
      "Unexpected parameter: compression\n",
      "Unexpected parameter: wait_on_rate_limit\n",
      "Unexpected parameter: wait_on_rate_limit_notify\n",
      "Unexpected parameter: compression\n",
      "Unexpected parameter: wait_on_rate_limit\n",
      "Unexpected parameter: wait_on_rate_limit_notify\n",
      "Unexpected parameter: compression\n",
      "Unexpected parameter: wait_on_rate_limit\n",
      "Unexpected parameter: wait_on_rate_limit_notify\n",
      "Unexpected parameter: compression\n",
      "Unexpected parameter: wait_on_rate_limit\n",
      "Unexpected parameter: wait_on_rate_limit_notify\n",
      "Unexpected parameter: compression\n",
      "Unexpected parameter: wait_on_rate_limit\n",
      "Unexpected parameter: wait_on_rate_limit_notify\n",
      "Unexpected parameter: compression\n",
      "Unexpected parameter: wait_on_rate_limit\n",
      "Unexpected parameter: wait_on_rate_limit_notify\n",
      "Unexpected parameter: compression\n",
      "Rate limit reached. Sleeping for: 896\n",
      "Unexpected parameter: wait_on_rate_limit\n",
      "Unexpected parameter: wait_on_rate_limit_notify\n",
      "Unexpected parameter: compression\n",
      "Unexpected parameter: wait_on_rate_limit\n",
      "Unexpected parameter: wait_on_rate_limit_notify\n",
      "Unexpected parameter: compression\n",
      "Unexpected parameter: wait_on_rate_limit\n",
      "Unexpected parameter: wait_on_rate_limit_notify\n",
      "Unexpected parameter: compression\n",
      "Unexpected parameter: wait_on_rate_limit\n",
      "Unexpected parameter: wait_on_rate_limit_notify\n",
      "Unexpected parameter: compression\n",
      "Unexpected parameter: wait_on_rate_limit\n",
      "Unexpected parameter: wait_on_rate_limit_notify\n",
      "Unexpected parameter: compression\n",
      "Unexpected parameter: wait_on_rate_limit\n",
      "Unexpected parameter: wait_on_rate_limit_notify\n",
      "Unexpected parameter: compression\n",
      "Unexpected parameter: wait_on_rate_limit\n",
      "Unexpected parameter: wait_on_rate_limit_notify\n",
      "Unexpected parameter: compression\n",
      "Unexpected parameter: wait_on_rate_limit\n",
      "Unexpected parameter: wait_on_rate_limit_notify\n",
      "Unexpected parameter: compression\n",
      "Unexpected parameter: wait_on_rate_limit\n",
      "Unexpected parameter: wait_on_rate_limit_notify\n",
      "Unexpected parameter: compression\n",
      "Unexpected parameter: wait_on_rate_limit\n",
      "Unexpected parameter: wait_on_rate_limit_notify\n",
      "Unexpected parameter: compression\n",
      "Unexpected parameter: wait_on_rate_limit\n",
      "Unexpected parameter: wait_on_rate_limit_notify\n",
      "Unexpected parameter: compression\n",
      "Unexpected parameter: wait_on_rate_limit\n",
      "Unexpected parameter: wait_on_rate_limit_notify\n",
      "Unexpected parameter: compression\n",
      "Unexpected parameter: wait_on_rate_limit\n",
      "Unexpected parameter: wait_on_rate_limit_notify\n",
      "Unexpected parameter: compression\n",
      "Unexpected parameter: wait_on_rate_limit\n",
      "Unexpected parameter: wait_on_rate_limit_notify\n",
      "Unexpected parameter: compression\n",
      "Unexpected parameter: wait_on_rate_limit\n",
      "Unexpected parameter: wait_on_rate_limit_notify\n",
      "Unexpected parameter: compression\n",
      "Rate limit reached. Sleeping for: 895\n",
      "Unexpected parameter: wait_on_rate_limit\n",
      "Unexpected parameter: wait_on_rate_limit_notify\n",
      "Unexpected parameter: compression\n",
      "Unexpected parameter: wait_on_rate_limit\n",
      "Unexpected parameter: wait_on_rate_limit_notify\n",
      "Unexpected parameter: compression\n",
      "Unexpected parameter: wait_on_rate_limit\n",
      "Unexpected parameter: wait_on_rate_limit_notify\n",
      "Unexpected parameter: compression\n",
      "Unexpected parameter: wait_on_rate_limit\n",
      "Unexpected parameter: wait_on_rate_limit_notify\n",
      "Unexpected parameter: compression\n",
      "Unexpected parameter: wait_on_rate_limit\n",
      "Unexpected parameter: wait_on_rate_limit_notify\n",
      "Unexpected parameter: compression\n",
      "Unexpected parameter: wait_on_rate_limit\n",
      "Unexpected parameter: wait_on_rate_limit_notify\n",
      "Unexpected parameter: compression\n",
      "Unexpected parameter: wait_on_rate_limit\n",
      "Unexpected parameter: wait_on_rate_limit_notify\n",
      "Unexpected parameter: compression\n",
      "Unexpected parameter: wait_on_rate_limit\n",
      "Unexpected parameter: wait_on_rate_limit_notify\n",
      "Unexpected parameter: compression\n"
     ]
    },
    {
     "name": "stdout",
     "output_type": "stream",
     "text": [
      "0:45:09.039050\n"
     ]
    }
   ],
   "source": [
    "# This creates a dictionary containing a list for each Twitter handle we'll be grabbing follower IDs from\n",
    "id_dict = {'EcoSenseNow' : [],\n",
    "           'CFigueres' : []}\n",
    "\n",
    "# Grabs the time when we start making requests to the API\n",
    "start_time = datetime.datetime.now()\n",
    "\n",
    "# .keys() allows us to iterate through each key in the dictionary\n",
    "for handle in id_dict.keys():\n",
    "    \n",
    "    # Each page contains 5,000 records, so since we know there are much more than 5,000 followers for both\n",
    "    # the Storm and Aces, we must iterate through each of the pages in order to get all follower IDs\n",
    "    # To grab the follower IDs, we will be using followers_ids\n",
    "    for page in tweepy.Cursor(api.get_follower_ids,\n",
    "                              # This is how we will get around the issue of not being able to grab all ids at once\n",
    "                              # Once the rate limit is hit, we will be notified that we must wait 15 mins (900 secs)\n",
    "                              wait_on_rate_limit=True, wait_on_rate_limit_notify=True, compression=True,\n",
    "                              screen_name=handle).pages():\n",
    "\n",
    "        # The page variable comes back as a list, so we have to use .extend rather than .append\n",
    "        id_dict[handle].extend(page)\n",
    "        \n",
    "\n",
    "# Let's see how long it took to grab all follower IDs\n",
    "end_time = datetime.datetime.now()\n",
    "elapsed_time = end_time - start_time\n",
    "print(elapsed_time)"
   ]
  },
  {
   "cell_type": "code",
   "execution_count": 17,
   "id": "1d5543d2",
   "metadata": {},
   "outputs": [
    {
     "data": {
      "text/plain": [
       "[1456148493400035330,\n",
       " 824560350557245440,\n",
       " 46043757,\n",
       " 1456665298325606407,\n",
       " 511541146,\n",
       " 20859500,\n",
       " 68105618,\n",
       " 365577229,\n",
       " 198452257,\n",
       " 1110555799129071616]"
      ]
     },
     "execution_count": 17,
     "metadata": {},
     "output_type": "execute_result"
    }
   ],
   "source": [
    "#take a look at the results\n",
    "id_dict['EcoSenseNow'][:10]"
   ]
  },
  {
   "cell_type": "code",
   "execution_count": 13,
   "id": "ba3b1beb",
   "metadata": {},
   "outputs": [
    {
     "name": "stdout",
     "output_type": "stream",
     "text": [
      "160059\n"
     ]
    }
   ],
   "source": [
    "length_key = len(id_dict['CFigueres'])\n",
    "print(length_key)"
   ]
  },
  {
   "cell_type": "code",
   "execution_count": 18,
   "id": "f8be93ca",
   "metadata": {},
   "outputs": [
    {
     "name": "stdout",
     "output_type": "stream",
     "text": [
      "ryangzepeda\n",
      "Stefanoutdoors\n",
      "2903Esteban\n",
      "kosickey\n",
      "GroisoD\n",
      "Jackie_OPR\n",
      "Clara_Mottura\n",
      "portflyfishing\n",
      "BeyhkerM\n",
      "NStaple\n"
     ]
    }
   ],
   "source": [
    "users = id_dict['CFigueres'][:10]\n",
    "\n",
    "for user_id in users:\n",
    "    \n",
    "    user = api.get_user(user_id=user_id)\n",
    "    print(user.screen_name)"
   ]
  },
  {
   "cell_type": "code",
   "execution_count": 39,
   "id": "7a585c99",
   "metadata": {},
   "outputs": [],
   "source": [
    "#saving the id_dict I created to local .txt file for working purposes.\n",
    "# open file for writing\n",
    "f = open(\"id_dict.txt\",\"w\")\n",
    "\n",
    "# write file\n",
    "f.write( str(id_dict) )\n",
    "\n",
    "# close file\n",
    "f.close()"
   ]
  },
  {
   "cell_type": "code",
   "execution_count": null,
   "id": "a370915f",
   "metadata": {},
   "outputs": [],
   "source": [
    "id_dict = {'EcoSenseNow' : [],\n",
    "           'CFigueres' : []}\n",
    "\n"
   ]
  },
  {
   "cell_type": "markdown",
   "id": "c9a5eebe",
   "metadata": {},
   "source": [
    "## Grab data from followers IDs\n",
    "\n",
    "Now we need to go and get even more information from Twitter accounts based on the ID."
   ]
  },
  {
   "cell_type": "code",
   "execution_count": 55,
   "id": "a163108b",
   "metadata": {},
   "outputs": [],
   "source": [
    "# The code inside this function comes from Brenden Connors\n",
    "# This will quickly grab information about each follower.\n",
    "def get_screen_names(list_of_ids, list_for_screen_names):\n",
    "    \n",
    "    start=0 #we have feed the API 100 ID's at a time, this will iterate through them\n",
    "    end=0\n",
    "    followers=[]\n",
    "    while end-1 <= len(list_of_ids): #quit when we get past the end of our list\n",
    "        end += 100 #update the end of our slice\n",
    "        if end <= len(list_of_ids): #split into if else statement to slice correctly\n",
    "            try:\n",
    "                followers_temp = api.lookup_users(user_id=list_of_ids[start:end])\n",
    "                followers.extend(followers_temp)\n",
    "            except tw.TweepyException as err: \n",
    "                if err == 103: #if we get a rate limit error, go to sleep\n",
    "                    print('sleeping, 900 seconds')\n",
    "                    time.sleep(900)\n",
    "\n",
    "        else:\n",
    "            try:\n",
    "                followers_temp = api.lookup_users(user_id=list_of_ids[start:])\n",
    "                followers.extend(followers_temp)\n",
    "            except tw.TweepyException as err:\n",
    "                if err == 103:\n",
    "                    print('sleeping, 900 seconds')\n",
    "                    time.sleep(900)\n",
    "            \n",
    "        \n",
    "        start = end #update our starting slice index for next loop\n",
    "        \n",
    "    list_for_screen_names.extend(followers)"
   ]
  },
  {
   "cell_type": "code",
   "execution_count": 56,
   "id": "032c5b8d",
   "metadata": {},
   "outputs": [
    {
     "name": "stderr",
     "output_type": "stream",
     "text": [
      "Rate limit reached. Sleeping for: 57\n",
      "Rate limit reached. Sleeping for: 82\n"
     ]
    }
   ],
   "source": [
    "# Let's put the function to use and make a new dictionary holding all user information\n",
    "user_dict = {'EcoSenseNow': [],\n",
    "                    'CFigueres' : []}\n",
    "\n",
    "for handle in user_dict.keys():\n",
    "    \n",
    "    get_screen_names(id_dict[handle],user_dict[handle])"
   ]
  },
  {
   "cell_type": "code",
   "execution_count": 61,
   "id": "456ca899",
   "metadata": {},
   "outputs": [
    {
     "data": {
      "text/plain": [
       "User(_api=<tweepy.api.API object at 0x0000029B2A3F3FD0>, _json={'id': 1456148493400035330, 'id_str': '1456148493400035330', 'name': 'John Smith', 'screen_name': 'notfakhongs1', 'location': '', 'description': 'Banned for saying Colin Powell should have been nixed for war crimes, been on twitter since 2013', 'url': None, 'entities': {'description': {'urls': []}}, 'protected': False, 'followers_count': 11, 'friends_count': 483, 'listed_count': 0, 'created_at': 'Thu Nov 04 06:37:18 +0000 2021', 'favourites_count': 61, 'utc_offset': None, 'time_zone': None, 'geo_enabled': False, 'verified': False, 'statuses_count': 4, 'lang': None, 'status': {'created_at': 'Mon Nov 08 00:13:37 +0000 2021', 'id': 1457501525173960704, 'id_str': '1457501525173960704', 'text': '@FluorescentGrey I strongly believe child sexual abuse is portrayed in an completely erroneous way on both the righ… https://t.co/gUkbZVKG7v', 'truncated': True, 'entities': {'hashtags': [], 'symbols': [], 'user_mentions': [{'screen_name': 'FluorescentGrey', 'name': 'klaatu barada nikto', 'id': 2433056592, 'id_str': '2433056592', 'indices': [0, 16]}], 'urls': [{'url': 'https://t.co/gUkbZVKG7v', 'expanded_url': 'https://twitter.com/i/web/status/1457501525173960704', 'display_url': 'twitter.com/i/web/status/1…', 'indices': [117, 140]}]}, 'source': '<a href=\"http://twitter.com/download/iphone\" rel=\"nofollow\">Twitter for iPhone</a>', 'in_reply_to_status_id': 1457479826500063232, 'in_reply_to_status_id_str': '1457479826500063232', 'in_reply_to_user_id': 2433056592, 'in_reply_to_user_id_str': '2433056592', 'in_reply_to_screen_name': 'FluorescentGrey', 'geo': None, 'coordinates': None, 'place': None, 'contributors': None, 'is_quote_status': False, 'retweet_count': 0, 'favorite_count': 0, 'favorited': False, 'retweeted': False, 'lang': 'en'}, 'contributors_enabled': False, 'is_translator': False, 'is_translation_enabled': False, 'profile_background_color': 'F5F8FA', 'profile_background_image_url': None, 'profile_background_image_url_https': None, 'profile_background_tile': False, 'profile_image_url': 'http://pbs.twimg.com/profile_images/1456148779741028352/EftC_l2w_normal.jpg', 'profile_image_url_https': 'https://pbs.twimg.com/profile_images/1456148779741028352/EftC_l2w_normal.jpg', 'profile_link_color': '1DA1F2', 'profile_sidebar_border_color': 'C0DEED', 'profile_sidebar_fill_color': 'DDEEF6', 'profile_text_color': '333333', 'profile_use_background_image': True, 'has_extended_profile': True, 'default_profile': True, 'default_profile_image': False, 'following': False, 'follow_request_sent': False, 'notifications': False, 'translator_type': 'none', 'withheld_in_countries': []}, id=1456148493400035330, id_str='1456148493400035330', name='John Smith', screen_name='notfakhongs1', location='', description='Banned for saying Colin Powell should have been nixed for war crimes, been on twitter since 2013', url=None, entities={'description': {'urls': []}}, protected=False, followers_count=11, friends_count=483, listed_count=0, created_at=datetime.datetime(2021, 11, 4, 6, 37, 18, tzinfo=datetime.timezone.utc), favourites_count=61, utc_offset=None, time_zone=None, geo_enabled=False, verified=False, statuses_count=4, lang=None, status=Status(_api=<tweepy.api.API object at 0x0000029B2A3F3FD0>, _json={'created_at': 'Mon Nov 08 00:13:37 +0000 2021', 'id': 1457501525173960704, 'id_str': '1457501525173960704', 'text': '@FluorescentGrey I strongly believe child sexual abuse is portrayed in an completely erroneous way on both the righ… https://t.co/gUkbZVKG7v', 'truncated': True, 'entities': {'hashtags': [], 'symbols': [], 'user_mentions': [{'screen_name': 'FluorescentGrey', 'name': 'klaatu barada nikto', 'id': 2433056592, 'id_str': '2433056592', 'indices': [0, 16]}], 'urls': [{'url': 'https://t.co/gUkbZVKG7v', 'expanded_url': 'https://twitter.com/i/web/status/1457501525173960704', 'display_url': 'twitter.com/i/web/status/1…', 'indices': [117, 140]}]}, 'source': '<a href=\"http://twitter.com/download/iphone\" rel=\"nofollow\">Twitter for iPhone</a>', 'in_reply_to_status_id': 1457479826500063232, 'in_reply_to_status_id_str': '1457479826500063232', 'in_reply_to_user_id': 2433056592, 'in_reply_to_user_id_str': '2433056592', 'in_reply_to_screen_name': 'FluorescentGrey', 'geo': None, 'coordinates': None, 'place': None, 'contributors': None, 'is_quote_status': False, 'retweet_count': 0, 'favorite_count': 0, 'favorited': False, 'retweeted': False, 'lang': 'en'}, created_at=datetime.datetime(2021, 11, 8, 0, 13, 37, tzinfo=datetime.timezone.utc), id=1457501525173960704, id_str='1457501525173960704', text='@FluorescentGrey I strongly believe child sexual abuse is portrayed in an completely erroneous way on both the righ… https://t.co/gUkbZVKG7v', truncated=True, entities={'hashtags': [], 'symbols': [], 'user_mentions': [{'screen_name': 'FluorescentGrey', 'name': 'klaatu barada nikto', 'id': 2433056592, 'id_str': '2433056592', 'indices': [0, 16]}], 'urls': [{'url': 'https://t.co/gUkbZVKG7v', 'expanded_url': 'https://twitter.com/i/web/status/1457501525173960704', 'display_url': 'twitter.com/i/web/status/1…', 'indices': [117, 140]}]}, source='Twitter for iPhone', source_url='http://twitter.com/download/iphone', in_reply_to_status_id=1457479826500063232, in_reply_to_status_id_str='1457479826500063232', in_reply_to_user_id=2433056592, in_reply_to_user_id_str='2433056592', in_reply_to_screen_name='FluorescentGrey', geo=None, coordinates=None, place=None, contributors=None, is_quote_status=False, retweet_count=0, favorite_count=0, favorited=False, retweeted=False, lang='en'), contributors_enabled=False, is_translator=False, is_translation_enabled=False, profile_background_color='F5F8FA', profile_background_image_url=None, profile_background_image_url_https=None, profile_background_tile=False, profile_image_url='http://pbs.twimg.com/profile_images/1456148779741028352/EftC_l2w_normal.jpg', profile_image_url_https='https://pbs.twimg.com/profile_images/1456148779741028352/EftC_l2w_normal.jpg', profile_link_color='1DA1F2', profile_sidebar_border_color='C0DEED', profile_sidebar_fill_color='DDEEF6', profile_text_color='333333', profile_use_background_image=True, has_extended_profile=True, default_profile=True, default_profile_image=False, following=False, follow_request_sent=False, notifications=False, translator_type='none', withheld_in_countries=[])"
      ]
     },
     "execution_count": 61,
     "metadata": {},
     "output_type": "execute_result"
    }
   ],
   "source": [
    "user_dict['EcoSenseNow'][0]"
   ]
  },
  {
   "cell_type": "code",
   "execution_count": 62,
   "id": "5965ac43",
   "metadata": {},
   "outputs": [
    {
     "name": "stdout",
     "output_type": "stream",
     "text": [
      "103099\n"
     ]
    }
   ],
   "source": [
    "length_key = len(user_dict['EcoSenseNow'])\n",
    "print(length_key)"
   ]
  },
  {
   "cell_type": "code",
   "execution_count": 63,
   "id": "8b95a43b",
   "metadata": {},
   "outputs": [],
   "source": [
    "#saving the id_dict I created to local .txt file for working purposes.\n",
    "# open file for writing\n",
    "f = open(\"user_dict.txt\",\"w\")\n",
    "\n",
    "# write file\n",
    "f.write( str(id_dict) )\n",
    "\n",
    "# close file\n",
    "f.close()"
   ]
  },
  {
   "cell_type": "markdown",
   "id": "35c59b2a",
   "metadata": {},
   "source": [
    "Now we can write the data we want to two .txt files for further research."
   ]
  },
  {
   "cell_type": "code",
   "execution_count": 66,
   "id": "3c4325d1",
   "metadata": {},
   "outputs": [],
   "source": [
    "headers = ['screen_name','name','ID','Location','Followers_Count','Friends_Count','description']\n",
    "\n",
    "for figure in user_dict.keys():\n",
    "\n",
    "    # Descriptions with emoji or non-Roman letters can cause trouble. Encoding your .txt file in utf-8 will help\n",
    "    with open(f'{figure}_followers.txt','w', encoding='utf-8') as out_file:\n",
    "        out_file.write('\\t'.join(headers) + '\\n')\n",
    "\n",
    "        for idx, user in enumerate(user_dict[figure]):\n",
    "            \n",
    "            # For accounts set to private, we won't be able to get the description unless we follow them\n",
    "            # Putting in a try/except statement, we can get around this issue.\n",
    "            name = str(user.name).replace('\\t',' ').replace('\\n',' ')\n",
    "            location = str(user.location).replace('\\t',' ').replace('\\n',' ')\n",
    "            description = str(user.description).replace('\\t',' ').replace('\\n',' ')\n",
    "            outline = [user.screen_name, name, user.id, location, user.followers_count, user.friends_count, description]\n",
    "\n",
    "            out_file.write('\\t'.join([str(item) for item in outline]) + '\\n')\n",
    "\n",
    "                \n",
    "            #if idx == 100:\n",
    "                #break"
   ]
  },
  {
   "cell_type": "code",
   "execution_count": null,
   "id": "99c51e5b",
   "metadata": {},
   "outputs": [],
   "source": []
  }
 ],
 "metadata": {
  "kernelspec": {
   "display_name": "Python 3 (ipykernel)",
   "language": "python",
   "name": "python3"
  },
  "language_info": {
   "codemirror_mode": {
    "name": "ipython",
    "version": 3
   },
   "file_extension": ".py",
   "mimetype": "text/x-python",
   "name": "python",
   "nbconvert_exporter": "python",
   "pygments_lexer": "ipython3",
   "version": "3.8.11"
  }
 },
 "nbformat": 4,
 "nbformat_minor": 5
}
